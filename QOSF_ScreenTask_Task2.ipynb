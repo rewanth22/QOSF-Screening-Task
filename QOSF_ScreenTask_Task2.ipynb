{
  "nbformat": 4,
  "nbformat_minor": 0,
  "metadata": {
    "colab": {
      "name": "QOSF_ScreenTask_Task2.ipynb",
      "provenance": [],
      "collapsed_sections": []
    },
    "kernelspec": {
      "name": "python3",
      "display_name": "Python 3"
    }
  },
  "cells": [
    {
      "cell_type": "code",
      "metadata": {
        "id": "8smoavEequsA",
        "outputId": "fc2916a0-ccc6-494e-8bf7-c7a9d2e82a00",
        "colab": {
          "base_uri": "https://localhost:8080/",
          "height": 187
        }
      },
      "source": [
        "!pip install pennylane\n",
        "import pennylane as qml\n",
        "from pennylane import numpy as np"
      ],
      "execution_count": 1,
      "outputs": [
        {
          "output_type": "stream",
          "text": [
            "Requirement already satisfied: pennylane in /usr/local/lib/python3.6/dist-packages (0.11.0)\n",
            "Requirement already satisfied: numpy in /usr/local/lib/python3.6/dist-packages (from pennylane) (1.18.5)\n",
            "Requirement already satisfied: appdirs in /usr/local/lib/python3.6/dist-packages (from pennylane) (1.4.4)\n",
            "Requirement already satisfied: autograd in /usr/local/lib/python3.6/dist-packages (from pennylane) (1.3)\n",
            "Requirement already satisfied: networkx in /usr/local/lib/python3.6/dist-packages (from pennylane) (2.5)\n",
            "Requirement already satisfied: semantic-version==2.6 in /usr/local/lib/python3.6/dist-packages (from pennylane) (2.6.0)\n",
            "Requirement already satisfied: toml in /usr/local/lib/python3.6/dist-packages (from pennylane) (0.10.1)\n",
            "Requirement already satisfied: scipy in /usr/local/lib/python3.6/dist-packages (from pennylane) (1.4.1)\n",
            "Requirement already satisfied: future>=0.15.2 in /usr/local/lib/python3.6/dist-packages (from autograd->pennylane) (0.16.0)\n",
            "Requirement already satisfied: decorator>=4.3.0 in /usr/local/lib/python3.6/dist-packages (from networkx->pennylane) (4.4.2)\n"
          ],
          "name": "stdout"
        }
      ]
    },
    {
      "cell_type": "code",
      "metadata": {
        "id": "czWj7lSDq34R"
      },
      "source": [
        "#Using in-built quantum simulator, with 2 qubits\n",
        "dev = qml.device(\"default.qubit\", wires=2) "
      ],
      "execution_count": 2,
      "outputs": []
    },
    {
      "cell_type": "code",
      "metadata": {
        "id": "S34PmpIQq6Uu"
      },
      "source": [
        "#Circuit definition \n",
        "@qml.qnode(dev)\n",
        "def circuit(params):                       \n",
        "    qml.RY(params[0],wires=0)\n",
        "    qml.CNOT(wires=[0,1])\n",
        "    qml.RX(params[1],wires=1)\n",
        "    return qml.probs(wires = [0,1])"
      ],
      "execution_count": 3,
      "outputs": []
    },
    {
      "cell_type": "code",
      "metadata": {
        "id": "cN1CkxZlrE6f"
      },
      "source": [
        "#Cost function definition \n",
        "def cost(params):\n",
        "    res_arr = circuit(params)\n",
        "    return (((res_arr[1]-res_arr[2])*(res_arr[1]-res_arr[2])) + (res_arr[0])*(res_arr[0]) + (res_arr[3])*(res_arr[3]))"
      ],
      "execution_count": 4,
      "outputs": []
    },
    {
      "cell_type": "code",
      "metadata": {
        "id": "kz3VpWvarHdK",
        "outputId": "afed5219-0d3b-4d18-bb9e-121a90792e7f",
        "colab": {
          "base_uri": "https://localhost:8080/",
          "height": 34
        }
      },
      "source": [
        "#Initial parameters definition and checking cost \n",
        "init_params = [0.13, 0.23]\n",
        "print(cost(init_params))"
      ],
      "execution_count": 5,
      "outputs": [
        {
          "output_type": "stream",
          "text": [
            "0.9658275170817103\n"
          ],
          "name": "stdout"
        }
      ]
    },
    {
      "cell_type": "code",
      "metadata": {
        "id": "ZxNrRPZ1rJOe",
        "outputId": "4040b5f2-3473-4535-d4b5-99b86914dc5b",
        "colab": {
          "base_uri": "https://localhost:8080/",
          "height": 187
        }
      },
      "source": [
        "#Initialise the optimizer with Learning Rate as Stepsize\n",
        "opt = qml.GradientDescentOptimizer(stepsize=0.8)\n",
        "\n",
        "#Set the number of steps\n",
        "steps = 8000\n",
        "#Set the initial parameter values\n",
        "params = init_params\n",
        "\n",
        "for i in range(steps):\n",
        "    #Update the circuit parameters\n",
        "    params = opt.step(cost, params)\n",
        "    if(i%1000==0):\n",
        "      print(\"Cost after step {:5d}: {:8f}\".format(i + 1, cost(params)))\n",
        "\n",
        "#Optimized Results\n",
        "print(\"Optimized theta1:{:8f}\".format(params[0]))\n",
        "print(\"Optimized theta2:{:8f}\".format(params[1]))"
      ],
      "execution_count": 6,
      "outputs": [
        {
          "output_type": "stream",
          "text": [
            "Cost after step     1: 0.897935\n",
            "Cost after step  1001: 0.000001\n",
            "Cost after step  2001: 0.000000\n",
            "Cost after step  3001: 0.000000\n",
            "Cost after step  4001: 0.000000\n",
            "Cost after step  5001: 0.000000\n",
            "Cost after step  6001: 0.000000\n",
            "Cost after step  7001: 0.000000\n",
            "Optimized theta1:1.570796\n",
            "Optimized theta2:3.116580\n"
          ],
          "name": "stdout"
        }
      ]
    },
    {
      "cell_type": "code",
      "metadata": {
        "id": "JflxM53GkhxD",
        "outputId": "f4c5d34c-e819-45b7-9c92-c52517c6d8c4",
        "colab": {
          "base_uri": "https://localhost:8080/",
          "height": 85
        }
      },
      "source": [
        "#Optimzed circuit diagram\n",
        "print(\"The Probability of the states 00,01,10,11 respectively:\",circuit(params))\n",
        "print(circuit.draw())"
      ],
      "execution_count": 7,
      "outputs": [
        {
          "output_type": "stream",
          "text": [
            "The Probability of the states 00,01,10,11 respectively: [7.82009403e-05 4.99921799e-01 4.99921799e-01 7.82009403e-05]\n",
            " 0: ──RY(1.571)──╭C─────────────╭┤ Probs \n",
            " 1: ─────────────╰X──RX(3.117)──╰┤ Probs \n",
            "\n"
          ],
          "name": "stdout"
        }
      ]
    }
  ]
}